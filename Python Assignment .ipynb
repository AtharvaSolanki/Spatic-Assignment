{
 "cells": [
  {
   "cell_type": "markdown",
   "id": "19c5832b",
   "metadata": {},
   "source": [
    "## Description of approach that I used"
   ]
  },
  {
   "cell_type": "markdown",
   "id": "8033f494",
   "metadata": {},
   "source": [
    "As given in the assignment I have to find the names that are similar and are around 200 metre in distance from each other. For this I sorted my csv file using .sort_values() function based on the name ,latitides and longitudes.\n",
    "After sorting the file I ran some test cases to find the distance between coordinates and I got to know that they are almost less than 200 metre in distance.\n",
    "After that I imported the difflib module of python that helped me in comparison of values of name column. I gave in the input of the name column. It gave me the output as 1 for the names that are similar and have minimum levensthien distance and it returned 0 as output for dissimilar names."
   ]
  },
  {
   "cell_type": "code",
   "execution_count": 1,
   "id": "1adb1423",
   "metadata": {},
   "outputs": [],
   "source": [
    "import pandas as pd"
   ]
  },
  {
   "cell_type": "code",
   "execution_count": 2,
   "id": "0200dd47",
   "metadata": {},
   "outputs": [],
   "source": [
    "#importing the csv file\n",
    "file=pd.read_csv(\"assignment_data.csv\")"
   ]
  },
  {
   "cell_type": "code",
   "execution_count": 3,
   "id": "d98722a2",
   "metadata": {},
   "outputs": [
    {
     "data": {
      "text/html": [
       "<div>\n",
       "<style scoped>\n",
       "    .dataframe tbody tr th:only-of-type {\n",
       "        vertical-align: middle;\n",
       "    }\n",
       "\n",
       "    .dataframe tbody tr th {\n",
       "        vertical-align: top;\n",
       "    }\n",
       "\n",
       "    .dataframe thead th {\n",
       "        text-align: right;\n",
       "    }\n",
       "</style>\n",
       "<table border=\"1\" class=\"dataframe\">\n",
       "  <thead>\n",
       "    <tr style=\"text-align: right;\">\n",
       "      <th></th>\n",
       "      <th>name</th>\n",
       "      <th>latitude</th>\n",
       "      <th>longitude</th>\n",
       "    </tr>\n",
       "  </thead>\n",
       "  <tbody>\n",
       "    <tr>\n",
       "      <th>0</th>\n",
       "      <td>kbyJYJzqEVkEmpc</td>\n",
       "      <td>13.022860</td>\n",
       "      <td>77.688911</td>\n",
       "    </tr>\n",
       "    <tr>\n",
       "      <th>1</th>\n",
       "      <td>qbgufTPzZEkxNHV</td>\n",
       "      <td>13.093675</td>\n",
       "      <td>77.702779</td>\n",
       "    </tr>\n",
       "    <tr>\n",
       "      <th>2</th>\n",
       "      <td>XWIXkuyDacCmsaE</td>\n",
       "      <td>12.902879</td>\n",
       "      <td>77.633207</td>\n",
       "    </tr>\n",
       "    <tr>\n",
       "      <th>3</th>\n",
       "      <td>PWMPzEhgQSIJFtLl</td>\n",
       "      <td>12.864532</td>\n",
       "      <td>77.731435</td>\n",
       "    </tr>\n",
       "    <tr>\n",
       "      <th>4</th>\n",
       "      <td>PWMPzEhgQSIJFtL</td>\n",
       "      <td>12.865321</td>\n",
       "      <td>77.731473</td>\n",
       "    </tr>\n",
       "  </tbody>\n",
       "</table>\n",
       "</div>"
      ],
      "text/plain": [
       "               name   latitude  longitude\n",
       "0   kbyJYJzqEVkEmpc  13.022860  77.688911\n",
       "1   qbgufTPzZEkxNHV  13.093675  77.702779\n",
       "2   XWIXkuyDacCmsaE  12.902879  77.633207\n",
       "3  PWMPzEhgQSIJFtLl  12.864532  77.731435\n",
       "4   PWMPzEhgQSIJFtL  12.865321  77.731473"
      ]
     },
     "execution_count": 3,
     "metadata": {},
     "output_type": "execute_result"
    }
   ],
   "source": [
    "file.head()"
   ]
  },
  {
   "cell_type": "code",
   "execution_count": 13,
   "id": "9c986a19",
   "metadata": {},
   "outputs": [],
   "source": [
    "#sorting the values based on the name , latitude and longitude\n",
    "a=file.sort_values(by=['name',\"latitude\", \"longitude\",])[['name',\"latitude\", \"longitude\"]]"
   ]
  },
  {
   "cell_type": "code",
   "execution_count": 15,
   "id": "ccd662b1",
   "metadata": {},
   "outputs": [
    {
     "data": {
      "text/html": [
       "<div>\n",
       "<style scoped>\n",
       "    .dataframe tbody tr th:only-of-type {\n",
       "        vertical-align: middle;\n",
       "    }\n",
       "\n",
       "    .dataframe tbody tr th {\n",
       "        vertical-align: top;\n",
       "    }\n",
       "\n",
       "    .dataframe thead th {\n",
       "        text-align: right;\n",
       "    }\n",
       "</style>\n",
       "<table border=\"1\" class=\"dataframe\">\n",
       "  <thead>\n",
       "    <tr style=\"text-align: right;\">\n",
       "      <th></th>\n",
       "      <th>name</th>\n",
       "      <th>latitude</th>\n",
       "      <th>longitude</th>\n",
       "    </tr>\n",
       "  </thead>\n",
       "  <tbody>\n",
       "    <tr>\n",
       "      <th>1116</th>\n",
       "      <td>AAAUYpYhFgblIZH</td>\n",
       "      <td>13.038619</td>\n",
       "      <td>77.679910</td>\n",
       "    </tr>\n",
       "    <tr>\n",
       "      <th>10163</th>\n",
       "      <td>AAcJNFtiwtEjrrn</td>\n",
       "      <td>13.012294</td>\n",
       "      <td>77.726266</td>\n",
       "    </tr>\n",
       "    <tr>\n",
       "      <th>11133</th>\n",
       "      <td>ABDrZMkLBAcbLpe</td>\n",
       "      <td>12.915150</td>\n",
       "      <td>77.641385</td>\n",
       "    </tr>\n",
       "    <tr>\n",
       "      <th>11132</th>\n",
       "      <td>ABDrZMkLBcbLpe</td>\n",
       "      <td>12.914391</td>\n",
       "      <td>77.642164</td>\n",
       "    </tr>\n",
       "    <tr>\n",
       "      <th>2188</th>\n",
       "      <td>ABHTjTePdqmXxgd</td>\n",
       "      <td>12.931069</td>\n",
       "      <td>77.678818</td>\n",
       "    </tr>\n",
       "  </tbody>\n",
       "</table>\n",
       "</div>"
      ],
      "text/plain": [
       "                  name   latitude  longitude\n",
       "1116   AAAUYpYhFgblIZH  13.038619  77.679910\n",
       "10163  AAcJNFtiwtEjrrn  13.012294  77.726266\n",
       "11133  ABDrZMkLBAcbLpe  12.915150  77.641385\n",
       "11132   ABDrZMkLBcbLpe  12.914391  77.642164\n",
       "2188   ABHTjTePdqmXxgd  12.931069  77.678818"
      ]
     },
     "execution_count": 15,
     "metadata": {},
     "output_type": "execute_result"
    }
   ],
   "source": [
    "a.head()"
   ]
  },
  {
   "cell_type": "code",
   "execution_count": 18,
   "id": "c7b24c82",
   "metadata": {},
   "outputs": [],
   "source": [
    "#method to calculate the distance between two coordinates\n",
    "import h3"
   ]
  },
  {
   "cell_type": "code",
   "execution_count": 21,
   "id": "d755e48b",
   "metadata": {},
   "outputs": [],
   "source": [
    "coords_1 = (12.915150, 77.641385)\n",
    "coords_2 = (12.914391, 77.642164)\n",
    "distance = h3.point_dist(coords_1, coords_2, unit='m') # To get distance in meters"
   ]
  },
  {
   "cell_type": "code",
   "execution_count": 38,
   "id": "848bc31c",
   "metadata": {},
   "outputs": [
    {
     "name": "stdout",
     "output_type": "stream",
     "text": [
      "119.37857217343566\n"
     ]
    }
   ],
   "source": [
    "print(distance)"
   ]
  },
  {
   "cell_type": "markdown",
   "id": "2a8a8a3d",
   "metadata": {},
   "source": [
    "as we can see that the distance is coming out to be around 120 metres which is less than 200 metres."
   ]
  },
  {
   "cell_type": "code",
   "execution_count": 32,
   "id": "b30fa048",
   "metadata": {},
   "outputs": [],
   "source": [
    "import difflib"
   ]
  },
  {
   "cell_type": "code",
   "execution_count": 35,
   "id": "92ea4a4e",
   "metadata": {},
   "outputs": [],
   "source": [
    "#adding a new column in our file and passing the output as 1 for similar string and 0 for rest.\n",
    "a['is_similar'] = [(len(difflib.get_close_matches(x, a['name'], cutoff=0.7))>1)*1 \n",
    "              for x in a['name']]"
   ]
  },
  {
   "cell_type": "code",
   "execution_count": 39,
   "id": "c047bc82",
   "metadata": {},
   "outputs": [
    {
     "name": "stdout",
     "output_type": "stream",
     "text": [
      "                   name   latitude  longitude  is_similar\n",
      "1116    AAAUYpYhFgblIZH  13.038619  77.679910           0\n",
      "10163   AAcJNFtiwtEjrrn  13.012294  77.726266           0\n",
      "11133   ABDrZMkLBAcbLpe  12.915150  77.641385           1\n",
      "11132    ABDrZMkLBcbLpe  12.914391  77.642164           1\n",
      "2188    ABHTjTePdqmXxgd  12.931069  77.678818           0\n",
      "...                 ...        ...        ...         ...\n",
      "1887    zyROgKTNQZxxyJO  12.865299  77.532986           0\n",
      "1810    zzAZHiXWZgqrZsh  13.027641  77.622532           1\n",
      "1809   zzAZHiXWZgqrZshj  13.027690  77.623029           1\n",
      "5876    zzoiEgUtlDUfefx  12.906092  77.501628           1\n",
      "5875     zzoiEgUtlDUfex  12.906514  77.500882           1\n",
      "\n",
      "[11814 rows x 4 columns]\n"
     ]
    }
   ],
   "source": [
    "print(a)"
   ]
  },
  {
   "cell_type": "code",
   "execution_count": 37,
   "id": "012e0150",
   "metadata": {},
   "outputs": [],
   "source": [
    "#Saving the output in a new csv file and naming the file as output.\n",
    "a.to_csv('output.csv', index=False)"
   ]
  },
  {
   "cell_type": "code",
   "execution_count": null,
   "id": "52cc647e",
   "metadata": {},
   "outputs": [],
   "source": []
  }
 ],
 "metadata": {
  "kernelspec": {
   "display_name": "Python 3",
   "language": "python",
   "name": "python3"
  },
  "language_info": {
   "codemirror_mode": {
    "name": "ipython",
    "version": 3
   },
   "file_extension": ".py",
   "mimetype": "text/x-python",
   "name": "python",
   "nbconvert_exporter": "python",
   "pygments_lexer": "ipython3",
   "version": "3.9.13"
  }
 },
 "nbformat": 4,
 "nbformat_minor": 5
}
